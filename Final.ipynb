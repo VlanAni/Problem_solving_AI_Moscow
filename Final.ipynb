{
 "cells": [
  {
   "cell_type": "code",
   "execution_count": 1,
   "id": "696aed26-0e77-409f-9f31-0971a7648737",
   "metadata": {},
   "outputs": [],
   "source": [
    "import pandas as pd\n",
    "import numpy as np\n",
    "import datetime"
   ]
  },
  {
   "cell_type": "code",
   "execution_count": 2,
   "id": "f05cf52d-e3f6-480b-bb51-dd43030b387d",
   "metadata": {},
   "outputs": [
    {
     "name": "stderr",
     "output_type": "stream",
     "text": [
      "C:\\Users\\Владимир\\AppData\\Local\\Temp\\ipykernel_6836\\3047152918.py:1: DtypeWarning: Columns (13) have mixed types. Specify dtype option on import or set low_memory=False.\n",
      "  raw_data = pd.read_csv('dataset_hackaton_ksg_v2.csv', sep=';', on_bad_lines='skip').drop(columns=['Unnamed: 0', '№ п/п'])\n"
     ]
    }
   ],
   "source": [
    "raw_data = pd.read_csv('dataset_hackaton_ksg_v2.csv', sep=';', on_bad_lines='skip').drop(columns=['Unnamed: 0', '№ п/п'])\n",
    "raw_attrs = pd.read_csv('data_mgz_attributes.csv', sep=';').drop(columns=['Unnamed: 0'])"
   ]
  },
  {
   "cell_type": "code",
   "execution_count": 3,
   "id": "2693ba06-930d-4ac5-9dda-305ae9920d4f",
   "metadata": {},
   "outputs": [],
   "source": [
    "def drop_bad_entries(df):\n",
    "    # Некоторые obj_key не имеют данных о каких-либо задачах, найдём их и выкинем\n",
    "    objects_to_drop = df.loc[df.ПроцентЗавершенияЗадачи.isna()].obj_key.unique()\n",
    "    objects_to_drop = df.loc[df.obj_key.isin(objects_to_drop)][['obj_key', 'Кодзадачи']].groupby(['obj_key']).count()\n",
    "    objects_to_drop = objects_to_drop[objects_to_drop == 0].dropna()\n",
    "    indexes_to_drop = df.loc[df.obj_key.isin(objects_to_drop.index)].index\n",
    "    df = df.drop(index=indexes_to_drop)\n",
    "    return df\n",
    "    \n",
    "    \n",
    "\n",
    "def prepare_data(df):\n",
    "    df = drop_bad_entries(df)\n",
    "    df = pd.get_dummies(df, columns=['obj_prg', 'obj_subprg'], drop_first=True)\n",
    "    df = df.drop(columns=['obj_key', 'НазваниеЗадачи'])\n",
    "   \n",
    "    return df"
   ]
  },
  {
   "cell_type": "code",
   "execution_count": 4,
   "id": "14b8f282-cd5c-417e-bff9-6b2454f462b6",
   "metadata": {},
   "outputs": [],
   "source": [
    "# Переименуем столбец \"Код ДС\" в \"obj_key\"\n",
    "raw_attrs = raw_attrs.rename(columns={'Код ДС' : 'obj_key'})\n",
    "\n",
    "# Выделим, к какой неделе года относится date_report\n",
    "raw_attrs['week'] = [str(datetime.date(*list(map(int, attr_date.split('.')))).isocalendar()[1]) for attr_date in raw_attrs.date_report.values]\n",
    "raw_attrs.date_report = raw_attrs.obj_key + '_' + raw_attrs.week\n",
    "\n",
    "# Добавляем столбец, показывающий, была ли указана площадь, и зануляем NaN в площади\n",
    "raw_attrs['is_square'] = raw_attrs['Площадь'].isna()\n",
    "raw_attrs.Площадь = raw_attrs.Площадь.fillna(0)\n",
    "\n",
    "\n",
    "raw_attrs['состояние площадки'] = raw_attrs['состояние площадки'].fillna('Не указано')\n",
    "\n",
    "# Добавляем столбец, показывающий, было ли указано количество рабочих, и зануляем NaN\n",
    "raw_attrs['is_workers'] = raw_attrs['Кол-во рабочих'].isna()\n",
    "raw_attrs['Кол-во рабочих'] = raw_attrs['Кол-во рабочих'].fillna(0)\n",
    "\n",
    "raw_attrs = raw_attrs.set_index('date_report').groupby('date_report').max().drop(columns=['obj_key', 'week'])"
   ]
  },
  {
   "cell_type": "code",
   "execution_count": 5,
   "id": "2d16da80-ad61-400e-b7ea-9f1534a5e14d",
   "metadata": {},
   "outputs": [],
   "source": [
    "raw_data['week'] = [str(datetime.date(*list(map(int, data_date.split('.')))).isocalendar()[1]) for data_date in raw_data.date_report.values]\n",
    "raw_data['Date_report_and_week'] = raw_data.obj_key + '_' + raw_data.week\n",
    "raw_data = raw_data.dropna(subset=['ДатаНачалаЗадачи', 'ДатаОкончанияЗадачи'])\n",
    "raw_data['Статуспоэкспертизе'] = raw_data['Статуспоэкспертизе'].fillna(0)\n",
    "raw_data['Экспертиза'] = raw_data['Экспертиза'].fillna('0TC')\n",
    "raw_data['target'] = 0\n",
    "start_dates = raw_data['ДатаНачалаЗадачи']\n",
    "end_dates = raw_data['ДатаОкончанияЗадачи']\n",
    "target = []\n",
    "for start, end in zip(start_dates, end_dates):\n",
    "    start_date = datetime.date(*map(int, start.split('-')))\n",
    "    end_date = datetime.date(*map(int, end.split('-')))\n",
    "    target.append((end_date - start_date).days)\n",
    "raw_data['target'] = target\n",
    "raw_data = raw_data.drop(columns=['obj_prg', 'НазваниеЗадачи', 'ДатаНачалаЗадачи', 'ДатаОкончанияЗадачи', 'ДатаначалаБП0', 'ДатаокончанияБП0'])"
   ]
  },
  {
   "cell_type": "code",
   "execution_count": 6,
   "id": "0725bda5-047c-4d85-b544-bd9ceb6299ce",
   "metadata": {},
   "outputs": [],
   "source": [
    "dataset = raw_data.join(raw_attrs, on=['Date_report_and_week'], how='inner').drop('Date_report_and_week', axis=1)"
   ]
  },
  {
   "cell_type": "code",
   "execution_count": 7,
   "id": "d0cfc1a9-b303-430c-8016-93714986b120",
   "metadata": {},
   "outputs": [
    {
     "data": {
      "text/html": [
       "<div>\n",
       "<style scoped>\n",
       "    .dataframe tbody tr th:only-of-type {\n",
       "        vertical-align: middle;\n",
       "    }\n",
       "\n",
       "    .dataframe tbody tr th {\n",
       "        vertical-align: top;\n",
       "    }\n",
       "\n",
       "    .dataframe thead th {\n",
       "        text-align: right;\n",
       "    }\n",
       "</style>\n",
       "<table border=\"1\" class=\"dataframe\">\n",
       "  <thead>\n",
       "    <tr style=\"text-align: right;\">\n",
       "      <th></th>\n",
       "      <th>obj_subprg</th>\n",
       "      <th>obj_key</th>\n",
       "      <th>Кодзадачи</th>\n",
       "      <th>ПроцентЗавершенияЗадачи</th>\n",
       "      <th>Статуспоэкспертизе</th>\n",
       "      <th>Экспертиза</th>\n",
       "      <th>date_report</th>\n",
       "      <th>week</th>\n",
       "      <th>target</th>\n",
       "      <th>состояние площадки</th>\n",
       "      <th>Площадь</th>\n",
       "      <th>Генпроектировщик</th>\n",
       "      <th>Генподрядчик</th>\n",
       "      <th>Кол-во рабочих</th>\n",
       "      <th>is_square</th>\n",
       "      <th>is_workers</th>\n",
       "    </tr>\n",
       "  </thead>\n",
       "  <tbody>\n",
       "    <tr>\n",
       "      <th>0</th>\n",
       "      <td>Общеобразовательные учреждения</td>\n",
       "      <td>022-0527</td>\n",
       "      <td>1</td>\n",
       "      <td>0.0</td>\n",
       "      <td>0.0</td>\n",
       "      <td>0TC</td>\n",
       "      <td>2023.01.17</td>\n",
       "      <td>3</td>\n",
       "      <td>440</td>\n",
       "      <td>Не передана</td>\n",
       "      <td>9850.0</td>\n",
       "      <td>0</td>\n",
       "      <td>0</td>\n",
       "      <td>0.0</td>\n",
       "      <td>False</td>\n",
       "      <td>True</td>\n",
       "    </tr>\n",
       "    <tr>\n",
       "      <th>69</th>\n",
       "      <td>Общеобразовательные учреждения</td>\n",
       "      <td>022-0527</td>\n",
       "      <td>1.1</td>\n",
       "      <td>0.0</td>\n",
       "      <td>0.0</td>\n",
       "      <td>0TC</td>\n",
       "      <td>2023.01.17</td>\n",
       "      <td>3</td>\n",
       "      <td>0</td>\n",
       "      <td>Не передана</td>\n",
       "      <td>9850.0</td>\n",
       "      <td>0</td>\n",
       "      <td>0</td>\n",
       "      <td>0.0</td>\n",
       "      <td>False</td>\n",
       "      <td>True</td>\n",
       "    </tr>\n",
       "    <tr>\n",
       "      <th>116</th>\n",
       "      <td>Общеобразовательные учреждения</td>\n",
       "      <td>022-0527</td>\n",
       "      <td>1.2</td>\n",
       "      <td>0.0</td>\n",
       "      <td>0.0</td>\n",
       "      <td>0TC</td>\n",
       "      <td>2023.01.17</td>\n",
       "      <td>3</td>\n",
       "      <td>27</td>\n",
       "      <td>Не передана</td>\n",
       "      <td>9850.0</td>\n",
       "      <td>0</td>\n",
       "      <td>0</td>\n",
       "      <td>0.0</td>\n",
       "      <td>False</td>\n",
       "      <td>True</td>\n",
       "    </tr>\n",
       "    <tr>\n",
       "      <th>180</th>\n",
       "      <td>Общеобразовательные учреждения</td>\n",
       "      <td>022-0527</td>\n",
       "      <td>1.2.1</td>\n",
       "      <td>0.0</td>\n",
       "      <td>0.0</td>\n",
       "      <td>0TC</td>\n",
       "      <td>2023.01.17</td>\n",
       "      <td>3</td>\n",
       "      <td>0</td>\n",
       "      <td>Не передана</td>\n",
       "      <td>9850.0</td>\n",
       "      <td>0</td>\n",
       "      <td>0</td>\n",
       "      <td>0.0</td>\n",
       "      <td>False</td>\n",
       "      <td>True</td>\n",
       "    </tr>\n",
       "    <tr>\n",
       "      <th>215</th>\n",
       "      <td>Общеобразовательные учреждения</td>\n",
       "      <td>022-0527</td>\n",
       "      <td>1.2.2</td>\n",
       "      <td>0.0</td>\n",
       "      <td>0.0</td>\n",
       "      <td>0TC</td>\n",
       "      <td>2023.01.17</td>\n",
       "      <td>3</td>\n",
       "      <td>27</td>\n",
       "      <td>Не передана</td>\n",
       "      <td>9850.0</td>\n",
       "      <td>0</td>\n",
       "      <td>0</td>\n",
       "      <td>0.0</td>\n",
       "      <td>False</td>\n",
       "      <td>True</td>\n",
       "    </tr>\n",
       "  </tbody>\n",
       "</table>\n",
       "</div>"
      ],
      "text/plain": [
       "                         obj_subprg   obj_key Кодзадачи  \\\n",
       "0    Общеобразовательные учреждения  022-0527         1   \n",
       "69   Общеобразовательные учреждения  022-0527       1.1   \n",
       "116  Общеобразовательные учреждения  022-0527       1.2   \n",
       "180  Общеобразовательные учреждения  022-0527     1.2.1   \n",
       "215  Общеобразовательные учреждения  022-0527     1.2.2   \n",
       "\n",
       "     ПроцентЗавершенияЗадачи  Статуспоэкспертизе Экспертиза date_report week  \\\n",
       "0                        0.0                 0.0        0TC  2023.01.17    3   \n",
       "69                       0.0                 0.0        0TC  2023.01.17    3   \n",
       "116                      0.0                 0.0        0TC  2023.01.17    3   \n",
       "180                      0.0                 0.0        0TC  2023.01.17    3   \n",
       "215                      0.0                 0.0        0TC  2023.01.17    3   \n",
       "\n",
       "     target состояние площадки  Площадь  Генпроектировщик  Генподрядчик  \\\n",
       "0       440        Не передана   9850.0                 0             0   \n",
       "69        0        Не передана   9850.0                 0             0   \n",
       "116      27        Не передана   9850.0                 0             0   \n",
       "180       0        Не передана   9850.0                 0             0   \n",
       "215      27        Не передана   9850.0                 0             0   \n",
       "\n",
       "     Кол-во рабочих  is_square  is_workers  \n",
       "0               0.0      False        True  \n",
       "69              0.0      False        True  \n",
       "116             0.0      False        True  \n",
       "180             0.0      False        True  \n",
       "215             0.0      False        True  "
      ]
     },
     "execution_count": 7,
     "metadata": {},
     "output_type": "execute_result"
    }
   ],
   "source": [
    "dataset.head()"
   ]
  },
  {
   "cell_type": "code",
   "execution_count": 8,
   "id": "b669eb54-80fb-4726-aa11-038eb3a75583",
   "metadata": {},
   "outputs": [
    {
     "name": "stdout",
     "output_type": "stream",
     "text": [
      "<class 'pandas.core.frame.DataFrame'>\n",
      "Int64Index: 1059960 entries, 0 to 1056075\n",
      "Data columns (total 16 columns):\n",
      " #   Column                   Non-Null Count    Dtype  \n",
      "---  ------                   --------------    -----  \n",
      " 0   obj_subprg               1059960 non-null  object \n",
      " 1   obj_key                  1059960 non-null  object \n",
      " 2   Кодзадачи                1059960 non-null  object \n",
      " 3   ПроцентЗавершенияЗадачи  1059960 non-null  float64\n",
      " 4   Статуспоэкспертизе       1059960 non-null  float64\n",
      " 5   Экспертиза               1059960 non-null  object \n",
      " 6   date_report              1059960 non-null  object \n",
      " 7   week                     1059960 non-null  object \n",
      " 8   target                   1059960 non-null  int64  \n",
      " 9   состояние площадки       1059960 non-null  object \n",
      " 10  Площадь                  1059960 non-null  float64\n",
      " 11  Генпроектировщик         1059960 non-null  int64  \n",
      " 12  Генподрядчик             1059960 non-null  int64  \n",
      " 13  Кол-во рабочих           1059960 non-null  float64\n",
      " 14  is_square                1059960 non-null  bool   \n",
      " 15  is_workers               1059960 non-null  bool   \n",
      "dtypes: bool(2), float64(4), int64(3), object(7)\n",
      "memory usage: 123.3+ MB\n"
     ]
    }
   ],
   "source": [
    "dataset.info()"
   ]
  },
  {
   "cell_type": "code",
   "execution_count": 9,
   "id": "45f2cbd9",
   "metadata": {},
   "outputs": [],
   "source": [
    "times = dataset.groupby('date_report')['target'].agg(['mean', 'median']) "
   ]
  },
  {
   "cell_type": "code",
   "execution_count": 10,
   "id": "3af4e501",
   "metadata": {},
   "outputs": [],
   "source": [
    "weeks = [i + 1 for i in range(len(times.index))]"
   ]
  },
  {
   "cell_type": "code",
   "execution_count": 11,
   "id": "da1845ad",
   "metadata": {},
   "outputs": [],
   "source": [
    "times['Week'] = weeks"
   ]
  },
  {
   "cell_type": "code",
   "execution_count": 12,
   "id": "60d690eb",
   "metadata": {},
   "outputs": [
    {
     "data": {
      "text/html": [
       "<div>\n",
       "<style scoped>\n",
       "    .dataframe tbody tr th:only-of-type {\n",
       "        vertical-align: middle;\n",
       "    }\n",
       "\n",
       "    .dataframe tbody tr th {\n",
       "        vertical-align: top;\n",
       "    }\n",
       "\n",
       "    .dataframe thead th {\n",
       "        text-align: right;\n",
       "    }\n",
       "</style>\n",
       "<table border=\"1\" class=\"dataframe\">\n",
       "  <thead>\n",
       "    <tr style=\"text-align: right;\">\n",
       "      <th></th>\n",
       "      <th>mean</th>\n",
       "      <th>median</th>\n",
       "      <th>Week</th>\n",
       "    </tr>\n",
       "    <tr>\n",
       "      <th>date_report</th>\n",
       "      <th></th>\n",
       "      <th></th>\n",
       "      <th></th>\n",
       "    </tr>\n",
       "  </thead>\n",
       "  <tbody>\n",
       "    <tr>\n",
       "      <th>2023.01.17</th>\n",
       "      <td>79.897222</td>\n",
       "      <td>22.0</td>\n",
       "      <td>1</td>\n",
       "    </tr>\n",
       "    <tr>\n",
       "      <th>2023.01.23</th>\n",
       "      <td>79.782332</td>\n",
       "      <td>22.0</td>\n",
       "      <td>2</td>\n",
       "    </tr>\n",
       "    <tr>\n",
       "      <th>2023.02.06</th>\n",
       "      <td>76.606787</td>\n",
       "      <td>19.0</td>\n",
       "      <td>3</td>\n",
       "    </tr>\n",
       "    <tr>\n",
       "      <th>2023.02.13</th>\n",
       "      <td>75.779358</td>\n",
       "      <td>19.0</td>\n",
       "      <td>4</td>\n",
       "    </tr>\n",
       "    <tr>\n",
       "      <th>2023.02.20</th>\n",
       "      <td>75.985669</td>\n",
       "      <td>19.0</td>\n",
       "      <td>5</td>\n",
       "    </tr>\n",
       "  </tbody>\n",
       "</table>\n",
       "</div>"
      ],
      "text/plain": [
       "                  mean  median  Week\n",
       "date_report                         \n",
       "2023.01.17   79.897222    22.0     1\n",
       "2023.01.23   79.782332    22.0     2\n",
       "2023.02.06   76.606787    19.0     3\n",
       "2023.02.13   75.779358    19.0     4\n",
       "2023.02.20   75.985669    19.0     5"
      ]
     },
     "execution_count": 12,
     "metadata": {},
     "output_type": "execute_result"
    }
   ],
   "source": [
    "times.head()"
   ]
  },
  {
   "cell_type": "code",
   "execution_count": 13,
   "id": "45fd1c4f",
   "metadata": {},
   "outputs": [],
   "source": [
    "import matplotlib.pyplot as plt\n",
    "import numpy as np"
   ]
  },
  {
   "cell_type": "code",
   "execution_count": 14,
   "id": "3316fd88",
   "metadata": {},
   "outputs": [
    {
     "data": {
      "text/plain": [
       "Text(0.5, 0, 'Неделя')"
      ]
     },
     "execution_count": 14,
     "metadata": {},
     "output_type": "execute_result"
    },
    {
     "data": {
      "image/png": "[encoded data removed]",
      "text/plain": [
       "<Figure size 640x480 with 1 Axes>"
      ]
     },
     "metadata": {},
     "output_type": "display_data"
    }
   ],
   "source": [
    "plt.plot(times['Week'], times['mean']) \n",
    "plt.yticks([0, 10, 20, 30, 40, 50, 60, 70, 80, 90, 100])\n",
    "plt.ylabel('Среднее значение target') \n",
    "plt.xlabel('Неделя')"
   ]
  },
  {
   "cell_type": "code",
   "execution_count": 15,
   "id": "f9ecf805",
   "metadata": {},
   "outputs": [
    {
     "data": {
      "text/plain": [
       "Text(0.5, 0, 'Неделя')"
      ]
     },
     "execution_count": 15,
     "metadata": {},
     "output_type": "execute_result"
    },
    {
     "data": {
      "image/png": "[encoded data removed]",
      "text/plain": [
       "<Figure size 640x480 with 1 Axes>"
      ]
     },
     "metadata": {},
     "output_type": "display_data"
    }
   ],
   "source": [
    "plt.plot(times['Week'], times['median']) \n",
    "plt.yticks([0, 10, 20, 30, 40, 50, 60, 70, 80, 90, 100])\n",
    "plt.ylabel('Медианное значение target') \n",
    "plt.xlabel('Неделя')"
   ]
  },
  {
   "cell_type": "markdown",
   "id": "183557f3",
   "metadata": {},
   "source": [
    "## Подготовка данных к обучению"
   ]
  },
  {
   "cell_type": "code",
   "execution_count": 16,
   "id": "2382cd37",
   "metadata": {},
   "outputs": [],
   "source": [
    "y = dataset['target'].copy()"
   ]
  },
  {
   "cell_type": "code",
   "execution_count": 17,
   "id": "dee61d70",
   "metadata": {},
   "outputs": [
    {
     "data": {
      "text/plain": [
       "0      440\n",
       "69       0\n",
       "116     27\n",
       "180      0\n",
       "215     27\n",
       "Name: target, dtype: int64"
      ]
     },
     "execution_count": 17,
     "metadata": {},
     "output_type": "execute_result"
    }
   ],
   "source": [
    "y.head()"
   ]
  },
  {
   "cell_type": "code",
   "execution_count": 18,
   "id": "db72b1f2",
   "metadata": {},
   "outputs": [],
   "source": [
    "X = dataset.drop(columns=['target'])"
   ]
  },
  {
   "cell_type": "code",
   "execution_count": 19,
   "id": "dce92644",
   "metadata": {},
   "outputs": [
    {
     "data": {
      "text/html": [
       "<div>\n",
       "<style scoped>\n",
       "    .dataframe tbody tr th:only-of-type {\n",
       "        vertical-align: middle;\n",
       "    }\n",
       "\n",
       "    .dataframe tbody tr th {\n",
       "        vertical-align: top;\n",
       "    }\n",
       "\n",
       "    .dataframe thead th {\n",
       "        text-align: right;\n",
       "    }\n",
       "</style>\n",
       "<table border=\"1\" class=\"dataframe\">\n",
       "  <thead>\n",
       "    <tr style=\"text-align: right;\">\n",
       "      <th></th>\n",
       "      <th>obj_subprg</th>\n",
       "      <th>obj_key</th>\n",
       "      <th>Кодзадачи</th>\n",
       "      <th>ПроцентЗавершенияЗадачи</th>\n",
       "      <th>Статуспоэкспертизе</th>\n",
       "      <th>Экспертиза</th>\n",
       "      <th>date_report</th>\n",
       "      <th>week</th>\n",
       "      <th>состояние площадки</th>\n",
       "      <th>Площадь</th>\n",
       "      <th>Генпроектировщик</th>\n",
       "      <th>Генподрядчик</th>\n",
       "      <th>Кол-во рабочих</th>\n",
       "      <th>is_square</th>\n",
       "      <th>is_workers</th>\n",
       "    </tr>\n",
       "  </thead>\n",
       "  <tbody>\n",
       "    <tr>\n",
       "      <th>0</th>\n",
       "      <td>Общеобразовательные учреждения</td>\n",
       "      <td>022-0527</td>\n",
       "      <td>1</td>\n",
       "      <td>0.0</td>\n",
       "      <td>0.0</td>\n",
       "      <td>0TC</td>\n",
       "      <td>2023.01.17</td>\n",
       "      <td>3</td>\n",
       "      <td>Не передана</td>\n",
       "      <td>9850.0</td>\n",
       "      <td>0</td>\n",
       "      <td>0</td>\n",
       "      <td>0.0</td>\n",
       "      <td>False</td>\n",
       "      <td>True</td>\n",
       "    </tr>\n",
       "    <tr>\n",
       "      <th>69</th>\n",
       "      <td>Общеобразовательные учреждения</td>\n",
       "      <td>022-0527</td>\n",
       "      <td>1.1</td>\n",
       "      <td>0.0</td>\n",
       "      <td>0.0</td>\n",
       "      <td>0TC</td>\n",
       "      <td>2023.01.17</td>\n",
       "      <td>3</td>\n",
       "      <td>Не передана</td>\n",
       "      <td>9850.0</td>\n",
       "      <td>0</td>\n",
       "      <td>0</td>\n",
       "      <td>0.0</td>\n",
       "      <td>False</td>\n",
       "      <td>True</td>\n",
       "    </tr>\n",
       "    <tr>\n",
       "      <th>116</th>\n",
       "      <td>Общеобразовательные учреждения</td>\n",
       "      <td>022-0527</td>\n",
       "      <td>1.2</td>\n",
       "      <td>0.0</td>\n",
       "      <td>0.0</td>\n",
       "      <td>0TC</td>\n",
       "      <td>2023.01.17</td>\n",
       "      <td>3</td>\n",
       "      <td>Не передана</td>\n",
       "      <td>9850.0</td>\n",
       "      <td>0</td>\n",
       "      <td>0</td>\n",
       "      <td>0.0</td>\n",
       "      <td>False</td>\n",
       "      <td>True</td>\n",
       "    </tr>\n",
       "    <tr>\n",
       "      <th>180</th>\n",
       "      <td>Общеобразовательные учреждения</td>\n",
       "      <td>022-0527</td>\n",
       "      <td>1.2.1</td>\n",
       "      <td>0.0</td>\n",
       "      <td>0.0</td>\n",
       "      <td>0TC</td>\n",
       "      <td>2023.01.17</td>\n",
       "      <td>3</td>\n",
       "      <td>Не передана</td>\n",
       "      <td>9850.0</td>\n",
       "      <td>0</td>\n",
       "      <td>0</td>\n",
       "      <td>0.0</td>\n",
       "      <td>False</td>\n",
       "      <td>True</td>\n",
       "    </tr>\n",
       "    <tr>\n",
       "      <th>215</th>\n",
       "      <td>Общеобразовательные учреждения</td>\n",
       "      <td>022-0527</td>\n",
       "      <td>1.2.2</td>\n",
       "      <td>0.0</td>\n",
       "      <td>0.0</td>\n",
       "      <td>0TC</td>\n",
       "      <td>2023.01.17</td>\n",
       "      <td>3</td>\n",
       "      <td>Не передана</td>\n",
       "      <td>9850.0</td>\n",
       "      <td>0</td>\n",
       "      <td>0</td>\n",
       "      <td>0.0</td>\n",
       "      <td>False</td>\n",
       "      <td>True</td>\n",
       "    </tr>\n",
       "  </tbody>\n",
       "</table>\n",
       "</div>"
      ],
      "text/plain": [
       "                         obj_subprg   obj_key Кодзадачи  \\\n",
       "0    Общеобразовательные учреждения  022-0527         1   \n",
       "69   Общеобразовательные учреждения  022-0527       1.1   \n",
       "116  Общеобразовательные учреждения  022-0527       1.2   \n",
       "180  Общеобразовательные учреждения  022-0527     1.2.1   \n",
       "215  Общеобразовательные учреждения  022-0527     1.2.2   \n",
       "\n",
       "     ПроцентЗавершенияЗадачи  Статуспоэкспертизе Экспертиза date_report week  \\\n",
       "0                        0.0                 0.0        0TC  2023.01.17    3   \n",
       "69                       0.0                 0.0        0TC  2023.01.17    3   \n",
       "116                      0.0                 0.0        0TC  2023.01.17    3   \n",
       "180                      0.0                 0.0        0TC  2023.01.17    3   \n",
       "215                      0.0                 0.0        0TC  2023.01.17    3   \n",
       "\n",
       "    состояние площадки  Площадь  Генпроектировщик  Генподрядчик  \\\n",
       "0          Не передана   9850.0                 0             0   \n",
       "69         Не передана   9850.0                 0             0   \n",
       "116        Не передана   9850.0                 0             0   \n",
       "180        Не передана   9850.0                 0             0   \n",
       "215        Не передана   9850.0                 0             0   \n",
       "\n",
       "     Кол-во рабочих  is_square  is_workers  \n",
       "0               0.0      False        True  \n",
       "69              0.0      False        True  \n",
       "116             0.0      False        True  \n",
       "180             0.0      False        True  \n",
       "215             0.0      False        True  "
      ]
     },
     "execution_count": 19,
     "metadata": {},
     "output_type": "execute_result"
    }
   ],
   "source": [
    "X.head()"
   ]
  },
  {
   "cell_type": "code",
   "execution_count": 20,
   "id": "08a5a4a4",
   "metadata": {},
   "outputs": [
    {
     "data": {
      "text/plain": [
       "Общеобразовательные учреждения    446931\n",
       "Поликлиники                       261871\n",
       "Дошкольные учреждения             257249\n",
       "ССК                                93909\n",
       "Name: obj_subprg, dtype: int64"
      ]
     },
     "execution_count": 20,
     "metadata": {},
     "output_type": "execute_result"
    }
   ],
   "source": [
    "X.obj_subprg.value_counts()"
   ]
  },
  {
   "cell_type": "code",
   "execution_count": 21,
   "id": "bdd1c4d3",
   "metadata": {},
   "outputs": [],
   "source": [
    "for i in X.index: \n",
    "    if X.loc[i, 'is_square']: \n",
    "        X.loc[i, 'is_square'] = 1 \n",
    "    else: \n",
    "        X.loc[i, 'is_square'] = 0 \n",
    "    if X.loc[i, 'is_workers']: \n",
    "        X.loc[i, 'is_workers'] = 1\n",
    "    else: \n",
    "        X.loc[i, 'is_workers'] = 0 "
   ]
  },
  {
   "cell_type": "code",
   "execution_count": 22,
   "id": "7bb4e690",
   "metadata": {},
   "outputs": [],
   "source": [
    "X['Общеобразовательные учреждения'] = 0 \n",
    "X['Поликлиники'] = 0 \n",
    "X['Дошкольные учреждения'] = 0 \n",
    "X['ССК'] = 0 \n",
    "for i in X.index: \n",
    "    X.loc[i, X.loc[i, 'obj_subprg']] = 1 "
   ]
  },
  {
   "cell_type": "code",
   "execution_count": 23,
   "id": "5adf47bb",
   "metadata": {},
   "outputs": [
    {
     "data": {
      "text/plain": [
       "Свободна, передана                           549376\n",
       "Занята                                       208403\n",
       "Свободна, не передана                        177191\n",
       "Не указано                                    64633\n",
       "Не передана                                   58489\n",
       "Не передана под снос (для объектов сноса)      1628\n",
       "Передана под снос (для объектов сноса)          240\n",
       "Name: состояние площадки, dtype: int64"
      ]
     },
     "execution_count": 23,
     "metadata": {},
     "output_type": "execute_result"
    }
   ],
   "source": [
    "X['состояние площадки'].value_counts()"
   ]
  },
  {
   "cell_type": "code",
   "execution_count": 25,
   "id": "ef3d1dab",
   "metadata": {},
   "outputs": [],
   "source": [
    "X_new = X.copy()"
   ]
  },
  {
   "cell_type": "code",
   "execution_count": 30,
   "id": "c57f3378",
   "metadata": {},
   "outputs": [],
   "source": [
    "values = list(X_new['состояние площадки'].unique())\n",
    "for i in X.index: \n",
    "    X_new.loc[i, 'состояние площадки'] = values.index(X_new.loc[i, 'состояние площадки']) + 1"
   ]
  },
  {
   "cell_type": "code",
   "execution_count": 31,
   "id": "81140def",
   "metadata": {},
   "outputs": [
    {
     "data": {
      "text/plain": [
       "6    549376\n",
       "3    208403\n",
       "5    177191\n",
       "2     64633\n",
       "1     58489\n",
       "4      1628\n",
       "7       240\n",
       "Name: состояние площадки, dtype: int64"
      ]
     },
     "execution_count": 31,
     "metadata": {},
     "output_type": "execute_result"
    }
   ],
   "source": [
    "X_new['состояние площадки'].value_counts()"
   ]
  },
  {
   "cell_type": "code",
   "execution_count": 41,
   "id": "228f2881",
   "metadata": {},
   "outputs": [
    {
     "name": "stdout",
     "output_type": "stream",
     "text": [
      "<class 'pandas.core.frame.DataFrame'>\n",
      "Int64Index: 1059960 entries, 0 to 1056075\n",
      "Data columns (total 19 columns):\n",
      " #   Column                          Non-Null Count    Dtype  \n",
      "---  ------                          --------------    -----  \n",
      " 0   obj_subprg                      1059960 non-null  object \n",
      " 1   obj_key                         1059960 non-null  object \n",
      " 2   Кодзадачи                       1059960 non-null  object \n",
      " 3   ПроцентЗавершенияЗадачи         1059960 non-null  float64\n",
      " 4   Статуспоэкспертизе              1059960 non-null  float64\n",
      " 5   Экспертиза                      1059960 non-null  object \n",
      " 6   date_report                     1059960 non-null  object \n",
      " 7   week                            1059960 non-null  object \n",
      " 8   состояние площадки              1059960 non-null  float64\n",
      " 9   Площадь                         1059960 non-null  float64\n",
      " 10  Генпроектировщик                1059960 non-null  int64  \n",
      " 11  Генподрядчик                    1059960 non-null  int64  \n",
      " 12  Кол-во рабочих                  1059960 non-null  float64\n",
      " 13  is_square                       1059960 non-null  float64\n",
      " 14  is_workers                      1059960 non-null  float64\n",
      " 15  Общеобразовательные учреждения  1059960 non-null  int64  \n",
      " 16  Поликлиники                     1059960 non-null  int64  \n",
      " 17  Дошкольные учреждения           1059960 non-null  int64  \n",
      " 18  ССК                             1059960 non-null  int64  \n",
      "dtypes: float64(7), int64(6), object(6)\n",
      "memory usage: 194.0+ MB\n"
     ]
    }
   ],
   "source": [
    "X_new.info()"
   ]
  },
  {
   "cell_type": "code",
   "execution_count": 40,
   "id": "023947cd",
   "metadata": {},
   "outputs": [],
   "source": [
    "X_new[['is_square', 'is_workers', 'состояние площадки']] = X_new[['is_square', 'is_workers', 'состояние площадки']].astype('float')"
   ]
  },
  {
   "cell_type": "code",
   "execution_count": 33,
   "id": "3a783c23",
   "metadata": {},
   "outputs": [],
   "source": [
    "from sklearn.model_selection import train_test_split"
   ]
  },
  {
   "cell_type": "code",
   "execution_count": 43,
   "id": "4c1afbcc",
   "metadata": {},
   "outputs": [],
   "source": [
    "X_train, X_test, y_train, y_test = train_test_split(X_new, y)"
   ]
  },
  {
   "cell_type": "code",
   "execution_count": 44,
   "id": "44e64042",
   "metadata": {},
   "outputs": [
    {
     "data": {
      "text/html": [
       "<div>\n",
       "<style scoped>\n",
       "    .dataframe tbody tr th:only-of-type {\n",
       "        vertical-align: middle;\n",
       "    }\n",
       "\n",
       "    .dataframe tbody tr th {\n",
       "        vertical-align: top;\n",
       "    }\n",
       "\n",
       "    .dataframe thead th {\n",
       "        text-align: right;\n",
       "    }\n",
       "</style>\n",
       "<table border=\"1\" class=\"dataframe\">\n",
       "  <thead>\n",
       "    <tr style=\"text-align: right;\">\n",
       "      <th></th>\n",
       "      <th>obj_subprg</th>\n",
       "      <th>obj_key</th>\n",
       "      <th>Кодзадачи</th>\n",
       "      <th>ПроцентЗавершенияЗадачи</th>\n",
       "      <th>Статуспоэкспертизе</th>\n",
       "      <th>Экспертиза</th>\n",
       "      <th>date_report</th>\n",
       "      <th>week</th>\n",
       "      <th>состояние площадки</th>\n",
       "      <th>Площадь</th>\n",
       "      <th>Генпроектировщик</th>\n",
       "      <th>Генподрядчик</th>\n",
       "      <th>Кол-во рабочих</th>\n",
       "      <th>is_square</th>\n",
       "      <th>is_workers</th>\n",
       "      <th>Общеобразовательные учреждения</th>\n",
       "      <th>Поликлиники</th>\n",
       "      <th>Дошкольные учреждения</th>\n",
       "      <th>ССК</th>\n",
       "    </tr>\n",
       "  </thead>\n",
       "  <tbody>\n",
       "    <tr>\n",
       "      <th>401850</th>\n",
       "      <td>Поликлиники</td>\n",
       "      <td>019-0473</td>\n",
       "      <td>4.7.1.3</td>\n",
       "      <td>100.0</td>\n",
       "      <td>0.0</td>\n",
       "      <td>0TC</td>\n",
       "      <td>2023.03.13</td>\n",
       "      <td>11</td>\n",
       "      <td>6.0</td>\n",
       "      <td>11507.82</td>\n",
       "      <td>14</td>\n",
       "      <td>10</td>\n",
       "      <td>0.0</td>\n",
       "      <td>0.0</td>\n",
       "      <td>0.0</td>\n",
       "      <td>0</td>\n",
       "      <td>1</td>\n",
       "      <td>0</td>\n",
       "      <td>0</td>\n",
       "    </tr>\n",
       "    <tr>\n",
       "      <th>630844</th>\n",
       "      <td>Поликлиники</td>\n",
       "      <td>019-0471</td>\n",
       "      <td>4.7.6.2</td>\n",
       "      <td>100.0</td>\n",
       "      <td>0.0</td>\n",
       "      <td>0TC</td>\n",
       "      <td>2023.04.10</td>\n",
       "      <td>15</td>\n",
       "      <td>6.0</td>\n",
       "      <td>11500.00</td>\n",
       "      <td>20</td>\n",
       "      <td>8</td>\n",
       "      <td>296.0</td>\n",
       "      <td>0.0</td>\n",
       "      <td>0.0</td>\n",
       "      <td>0</td>\n",
       "      <td>1</td>\n",
       "      <td>0</td>\n",
       "      <td>0</td>\n",
       "    </tr>\n",
       "    <tr>\n",
       "      <th>673036</th>\n",
       "      <td>Дошкольные учреждения</td>\n",
       "      <td>022-0518</td>\n",
       "      <td>3.5</td>\n",
       "      <td>0.0</td>\n",
       "      <td>0.0</td>\n",
       "      <td>0TC</td>\n",
       "      <td>2023.04.17</td>\n",
       "      <td>16</td>\n",
       "      <td>3.0</td>\n",
       "      <td>6000.00</td>\n",
       "      <td>0</td>\n",
       "      <td>0</td>\n",
       "      <td>0.0</td>\n",
       "      <td>0.0</td>\n",
       "      <td>1.0</td>\n",
       "      <td>0</td>\n",
       "      <td>0</td>\n",
       "      <td>1</td>\n",
       "      <td>0</td>\n",
       "    </tr>\n",
       "    <tr>\n",
       "      <th>896582</th>\n",
       "      <td>ССК</td>\n",
       "      <td>019-0477</td>\n",
       "      <td>3.15.0</td>\n",
       "      <td>100.0</td>\n",
       "      <td>0.0</td>\n",
       "      <td>0TC</td>\n",
       "      <td>2023.05.15</td>\n",
       "      <td>20</td>\n",
       "      <td>6.0</td>\n",
       "      <td>3592.70</td>\n",
       "      <td>16</td>\n",
       "      <td>12</td>\n",
       "      <td>6.0</td>\n",
       "      <td>0.0</td>\n",
       "      <td>0.0</td>\n",
       "      <td>0</td>\n",
       "      <td>0</td>\n",
       "      <td>0</td>\n",
       "      <td>1</td>\n",
       "    </tr>\n",
       "    <tr>\n",
       "      <th>844396</th>\n",
       "      <td>Общеобразовательные учреждения</td>\n",
       "      <td>022-0522</td>\n",
       "      <td>3.15.6.13</td>\n",
       "      <td>0.0</td>\n",
       "      <td>0.0</td>\n",
       "      <td>0TC</td>\n",
       "      <td>2023.05.10</td>\n",
       "      <td>19</td>\n",
       "      <td>1.0</td>\n",
       "      <td>13260.00</td>\n",
       "      <td>35</td>\n",
       "      <td>24</td>\n",
       "      <td>0.0</td>\n",
       "      <td>0.0</td>\n",
       "      <td>1.0</td>\n",
       "      <td>1</td>\n",
       "      <td>0</td>\n",
       "      <td>0</td>\n",
       "      <td>0</td>\n",
       "    </tr>\n",
       "  </tbody>\n",
       "</table>\n",
       "</div>"
      ],
      "text/plain": [
       "                            obj_subprg   obj_key  Кодзадачи  \\\n",
       "401850                     Поликлиники  019-0473    4.7.1.3   \n",
       "630844                     Поликлиники  019-0471    4.7.6.2   \n",
       "673036           Дошкольные учреждения  022-0518        3.5   \n",
       "896582                             ССК  019-0477     3.15.0   \n",
       "844396  Общеобразовательные учреждения  022-0522  3.15.6.13   \n",
       "\n",
       "        ПроцентЗавершенияЗадачи  Статуспоэкспертизе Экспертиза date_report  \\\n",
       "401850                    100.0                 0.0        0TC  2023.03.13   \n",
       "630844                    100.0                 0.0        0TC  2023.04.10   \n",
       "673036                      0.0                 0.0        0TC  2023.04.17   \n",
       "896582                    100.0                 0.0        0TC  2023.05.15   \n",
       "844396                      0.0                 0.0        0TC  2023.05.10   \n",
       "\n",
       "       week  состояние площадки   Площадь  Генпроектировщик  Генподрядчик  \\\n",
       "401850   11                 6.0  11507.82                14            10   \n",
       "630844   15                 6.0  11500.00                20             8   \n",
       "673036   16                 3.0   6000.00                 0             0   \n",
       "896582   20                 6.0   3592.70                16            12   \n",
       "844396   19                 1.0  13260.00                35            24   \n",
       "\n",
       "        Кол-во рабочих  is_square  is_workers  Общеобразовательные учреждения  \\\n",
       "401850             0.0        0.0         0.0                               0   \n",
       "630844           296.0        0.0         0.0                               0   \n",
       "673036             0.0        0.0         1.0                               0   \n",
       "896582             6.0        0.0         0.0                               0   \n",
       "844396             0.0        0.0         1.0                               1   \n",
       "\n",
       "        Поликлиники  Дошкольные учреждения  ССК  \n",
       "401850            1                      0    0  \n",
       "630844            1                      0    0  \n",
       "673036            0                      1    0  \n",
       "896582            0                      0    1  \n",
       "844396            0                      0    0  "
      ]
     },
     "execution_count": 44,
     "metadata": {},
     "output_type": "execute_result"
    }
   ],
   "source": [
    "X_train.head()"
   ]
  },
  {
   "cell_type": "markdown",
   "id": "1ec32e27",
   "metadata": {},
   "source": [
    "## Создание модели и оценка точности  "
   ]
  },
  {
   "cell_type": "code",
   "execution_count": 36,
   "id": "e63de1e1",
   "metadata": {},
   "outputs": [],
   "source": [
    "from xgboost import XGBRegressor "
   ]
  },
  {
   "cell_type": "code",
   "execution_count": 48,
   "id": "5c16a642",
   "metadata": {},
   "outputs": [],
   "source": [
    "features = ['ПроцентЗавершенияЗадачи',\n",
    "            'состояние площадки',\n",
    "            'Площадь', \n",
    "            'Генпроектировщик', \n",
    "            'Генподрядчик', \n",
    "            'Кол-во рабочих',\n",
    "            'is_square',\n",
    "            'is_workers', \n",
    "            'Общеобразовательные учреждения', \n",
    "            'Поликлиники', \n",
    "            'Дошкольные учреждения', \n",
    "            'ССК']"
   ]
  },
  {
   "cell_type": "code",
   "execution_count": 49,
   "id": "3ebf6278",
   "metadata": {},
   "outputs": [],
   "source": [
    "X_fit = X_train[features]"
   ]
  },
  {
   "cell_type": "code",
   "execution_count": 50,
   "id": "a7579808",
   "metadata": {},
   "outputs": [],
   "source": [
    "X_test = X_test[features]"
   ]
  },
  {
   "cell_type": "code",
   "execution_count": 51,
   "id": "172f8c63",
   "metadata": {},
   "outputs": [],
   "source": [
    "model = XGBRegressor()"
   ]
  },
  {
   "cell_type": "code",
   "execution_count": 54,
   "id": "1ce3785b",
   "metadata": {},
   "outputs": [
    {
     "data": {
      "text/plain": [
       "XGBRegressor(base_score=None, booster=None, callbacks=None,\n",
       "             colsample_bylevel=None, colsample_bynode=None,\n",
       "             colsample_bytree=None, early_stopping_rounds=None,\n",
       "             enable_categorical=False, eval_metric=None, feature_types=None,\n",
       "             gamma=None, gpu_id=None, grow_policy=None, importance_type=None,\n",
       "             interaction_constraints=None, learning_rate=None, max_bin=None,\n",
       "             max_cat_threshold=None, max_cat_to_onehot=None,\n",
       "             max_delta_step=None, max_depth=None, max_leaves=None,\n",
       "             min_child_weight=None, missing=nan, monotone_constraints=None,\n",
       "             n_estimators=100, n_jobs=None, num_parallel_tree=None,\n",
       "             predictor=None, random_state=None, ...)"
      ]
     },
     "execution_count": 54,
     "metadata": {},
     "output_type": "execute_result"
    }
   ],
   "source": [
    "model.fit(X_fit, y_train)"
   ]
  },
  {
   "cell_type": "code",
   "execution_count": 55,
   "id": "eb0c8c18",
   "metadata": {},
   "outputs": [],
   "source": [
    "predicts = model.predict(X_test)"
   ]
  },
  {
   "cell_type": "code",
   "execution_count": 56,
   "id": "28127338",
   "metadata": {},
   "outputs": [],
   "source": [
    "from sklearn.metrics import mean_squared_error"
   ]
  },
  {
   "cell_type": "code",
   "execution_count": 57,
   "id": "d1b0f0d8",
   "metadata": {},
   "outputs": [],
   "source": [
    "mse = mean_squared_error(y_test, predicts)"
   ]
  },
  {
   "cell_type": "code",
   "execution_count": 71,
   "id": "20d2b086",
   "metadata": {},
   "outputs": [
    {
     "data": {
      "text/plain": [
       "11047.820564847614"
      ]
     },
     "execution_count": 71,
     "metadata": {},
     "output_type": "execute_result"
    }
   ],
   "source": [
    "mse"
   ]
  },
  {
   "cell_type": "code",
   "execution_count": 72,
   "id": "210c94ec",
   "metadata": {},
   "outputs": [
    {
     "data": {
      "text/plain": [
       "105.1086131810691"
      ]
     },
     "execution_count": 72,
     "metadata": {},
     "output_type": "execute_result"
    }
   ],
   "source": [
    "rmse = mse ** 0.5\n",
    "rmse"
   ]
  }
 ],
 "metadata": {
  "kernelspec": {
   "display_name": "Python 3 (ipykernel)",
   "language": "python",
   "name": "python3"
  },
  "language_info": {
   "codemirror_mode": {
    "name": "ipython",
    "version": 3
   },
   "file_extension": ".py",
   "mimetype": "text/x-python",
   "name": "python",
   "nbconvert_exporter": "python",
   "pygments_lexer": "ipython3",
   "version": "3.9.13"
  }
 },
 "nbformat": 4,
 "nbformat_minor": 5
}
